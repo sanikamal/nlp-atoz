{
 "cells": [
  {
   "cell_type": "markdown",
   "metadata": {},
   "source": [
    "# Clean Text With Python\n",
    "@ Sani Kamal, 2019"
   ]
  },
  {
   "cell_type": "markdown",
   "metadata": {},
   "source": [
    "## The Fireless Cook Book, by Margaret Johnes Mitchell\n",
    "\n",
    "Let’s start off by selecting a dataset. In this kernel, we will use the text from the book\n",
    "`The Fireless Cook Book, by Margaret Johnes Mitchell`.The full text for `The Fireless Cook Book` is available for free from Project Gutenberg. You can download the ASCII text version of the text here:\n",
    "\n",
    "- [The Fireless Cook Book, by Margaret Johnes Mitchell](http://www.gutenberg.org/files/60598/60598-0.txt)\n",
    "\n",
    "Download the file and place it in your current working directory with the file name\n",
    "`fireless_cook_book.txt`. The file contains header and footer information that we are not interested in, specifically copyright and license information. Open the file and delete the header and footer information and save the file as `fireless_cook_book_clean.txt`."
   ]
  },
  {
   "cell_type": "markdown",
   "metadata": {},
   "source": [
    "## Load Data"
   ]
  },
  {
   "cell_type": "code",
   "execution_count": 24,
   "metadata": {},
   "outputs": [],
   "source": [
    "# load text\n",
    "filename = 'data/fireless_cook_book_clean.txt'\n",
    "file = open(filename,'rt')\n",
    "text = file.read()\n",
    "file.close()"
   ]
  },
  {
   "cell_type": "markdown",
   "metadata": {},
   "source": [
    "## Split by Whitespace"
   ]
  },
  {
   "cell_type": "code",
   "execution_count": 25,
   "metadata": {},
   "outputs": [
    {
     "name": "stdout",
     "output_type": "stream",
     "text": [
      "['THE', 'FIRELESS', 'COOKER', 'Does', 'the', 'idea', 'appeal', 'to', 'you', 'of', 'putting', 'your', 'dinner', 'on', 'to', 'cook', 'and', 'then', 'going', 'visiting,', 'or', 'to', 'the', 'theatre,', 'or', 'sitting', 'down', 'to', 'read,', 'write,', 'or', 'sew,', 'with', 'no', 'further', 'thought', 'for', 'your', 'food', 'until', 'it', 'is', 'time', 'to', 'serve', 'it?', 'It', 'sounds', 'like', 'a', 'fairy-tale', 'to', 'say', 'that', 'you', 'can', 'bring', 'food', 'to', 'the', 'boiling', 'point,', 'put', 'it', 'into', 'a', 'box', 'of', 'hay,', 'and', 'leave', 'it', 'for', 'a', 'few', 'hours,', 'returning', 'to', 'find', 'it', 'cooked,', 'and', 'often', 'better', 'cooked', 'than', 'in', 'any', 'other', 'way!', 'Yet', 'it', 'is', 'true.', 'Norwegian', 'housewives', 'have', 'known', 'this', 'for']\n"
     ]
    }
   ],
   "source": [
    "# split into words by white space\n",
    "words = text.split()\n",
    "print(words[:100])"
   ]
  },
  {
   "cell_type": "markdown",
   "metadata": {},
   "source": [
    "## Select Words\n",
    "Use regex model (re) and split the document into words by selecting for strings of alphanumeric characters (a-z, A-Z, 0-9 and ‘ ’)."
   ]
  },
  {
   "cell_type": "code",
   "execution_count": 26,
   "metadata": {},
   "outputs": [
    {
     "name": "stdout",
     "output_type": "stream",
     "text": [
      "['THE', 'FIRELESS', 'COOKER', 'Does', 'the', 'idea', 'appeal', 'to', 'you', 'of', 'putting', 'your', 'dinner', 'on', 'to', 'cook', 'and', 'then', 'going', 'visiting', 'or', 'to', 'the', 'theatre', 'or', 'sitting', 'down', 'to', 'read', 'write', 'or', 'sew', 'with', 'no', 'further', 'thought', 'for', 'your', 'food', 'until', 'it', 'is', 'time', 'to', 'serve', 'it', 'It', 'sounds', 'like', 'a', 'fairy', 'tale', 'to', 'say', 'that', 'you', 'can', 'bring', 'food', 'to', 'the', 'boiling', 'point', 'put', 'it', 'into', 'a', 'box', 'of', 'hay', 'and', 'leave', 'it', 'for', 'a', 'few', 'hours', 'returning', 'to', 'find', 'it', 'cooked', 'and', 'often', 'better', 'cooked', 'than', 'in', 'any', 'other', 'way', 'Yet', 'it', 'is', 'true', 'Norwegian', 'housewives', 'have', 'known', 'this']\n"
     ]
    }
   ],
   "source": [
    "import re\n",
    "\n",
    "# split based on words only\n",
    "words = re.split(r'\\W+',text)\n",
    "print(words[:100])"
   ]
  },
  {
   "cell_type": "markdown",
   "metadata": {},
   "source": [
    "## Split by Whitespace and Remove Punctuation"
   ]
  },
  {
   "cell_type": "code",
   "execution_count": 27,
   "metadata": {},
   "outputs": [
    {
     "name": "stdout",
     "output_type": "stream",
     "text": [
      "!\"#$%&'()*+,-./:;<=>?@[\\]^_`{|}~\n"
     ]
    }
   ],
   "source": [
    "import string\n",
    "print(string.punctuation)"
   ]
  },
  {
   "cell_type": "code",
   "execution_count": 28,
   "metadata": {},
   "outputs": [
    {
     "name": "stdout",
     "output_type": "stream",
     "text": [
      "['THE', 'FIRELESS', 'COOKER', 'Does', 'the', 'idea', 'appeal', 'to', 'you', 'of', 'putting', 'your', 'dinner', 'on', 'to', 'cook', 'and', 'then', 'going', 'visiting', 'or', 'to', 'the', 'theatre', 'or', 'sitting', 'down', 'to', 'read', 'write', 'or', 'sew', 'with', 'no', 'further', 'thought', 'for', 'your', 'food', 'until', 'it', 'is', 'time', 'to', 'serve', 'it', 'It', 'sounds', 'like', 'a', 'fairy', 'tale', 'to', 'say', 'that', 'you', 'can', 'bring', 'food', 'to', 'the', 'boiling', 'point', 'put', 'it', 'into', 'a', 'box', 'of', 'hay', 'and', 'leave', 'it', 'for', 'a', 'few', 'hours', 'returning', 'to', 'find', 'it', 'cooked', 'and', 'often', 'better', 'cooked', 'than', 'in', 'any', 'other', 'way', 'Yet', 'it', 'is', 'true', 'Norwegian', 'housewives', 'have', 'known', 'this']\n"
     ]
    }
   ],
   "source": [
    "re_punc = re.compile( ' [%s] ' % re.escape(string.punctuation))\n",
    "# remove punctuation from each word\n",
    "stripped = [re_punc.sub( '' , w) for w in words]\n",
    "print(stripped[:100])"
   ]
  },
  {
   "cell_type": "code",
   "execution_count": 29,
   "metadata": {},
   "outputs": [
    {
     "name": "stdout",
     "output_type": "stream",
     "text": [
      "['sauces', 'fruits', 'vegetables', 'puddings', 'eggs', 'in', 'fact', 'almost', 'everything', 'that', 'does', 'not', 'need', 'to', 'be', 'crisp', 'can', 'be', 'cooked', 'in', 'a', 'simple', 'hay', 'box', 'If', 'the', 'composition', 'of', 'foods', 'and', 'the', 'general', 'principles', 'of', 'cookery', 'are', 'well', 'understood', 'but', 'little', 'special', 'instruction', 'will', 'be', 'needed', 'to', 'enable', 'one', 'to', 'prepare', 'such', 'dishes', 'with', 'success', 'though', 'even', 'a', 'novice', 'may', 'use', 'a', 'fireless', 'cooker', 'if', 'the', 'general', 'directions', 'and', 'explanations', 'as', 'well', 'as', 'the', 'individual', 'recipes', 'are', 'carefully', 'read', 'and', 'followed', 'While', 'such', 'dishes', 'as', 'toast', 'pancakes', 'roast', 'or', 'broiled', 'meats', 'baked', 'bread', 'and', 'biscuits', 'are', 'impossible', 'to', 'cook', 'in', 'the', 'simpler']\n"
     ]
    }
   ],
   "source": [
    "re_print = re.compile( ' [^%s] ' % re.escape(string.printable))\n",
    "result = [re_print.sub( '' , w) for w in words]\n",
    "print(result[200:301])"
   ]
  },
  {
   "cell_type": "markdown",
   "metadata": {},
   "source": [
    "## Normalizing Case"
   ]
  },
  {
   "cell_type": "code",
   "execution_count": 30,
   "metadata": {},
   "outputs": [
    {
     "name": "stdout",
     "output_type": "stream",
     "text": [
      "['the', 'fireless', 'cooker', 'does', 'the', 'idea', 'appeal', 'to', 'you', 'of', 'putting', 'your', 'dinner', 'on', 'to', 'cook', 'and', 'then', 'going', 'visiting,', 'or', 'to', 'the', 'theatre,', 'or', 'sitting', 'down', 'to', 'read,', 'write,', 'or', 'sew,', 'with', 'no', 'further', 'thought', 'for', 'your', 'food', 'until', 'it', 'is', 'time', 'to', 'serve', 'it?', 'it', 'sounds', 'like', 'a', 'fairy-tale', 'to', 'say', 'that', 'you', 'can', 'bring', 'food', 'to', 'the', 'boiling', 'point,', 'put', 'it', 'into', 'a', 'box', 'of', 'hay,', 'and', 'leave', 'it', 'for', 'a', 'few', 'hours,', 'returning', 'to', 'find', 'it', 'cooked,', 'and', 'often', 'better', 'cooked', 'than', 'in', 'any', 'other', 'way!', 'yet', 'it', 'is', 'true.', 'norwegian', 'housewives', 'have', 'known', 'this', 'for']\n"
     ]
    }
   ],
   "source": [
    "# split into words by white space\n",
    "words = text.split()\n",
    "# convert to lower case\n",
    "words = [word.lower() for word in words]\n",
    "print(words[:100])"
   ]
  },
  {
   "cell_type": "code",
   "execution_count": null,
   "metadata": {},
   "outputs": [],
   "source": []
  }
 ],
 "metadata": {
  "kernelspec": {
   "display_name": "Python 3",
   "language": "python",
   "name": "python3"
  },
  "language_info": {
   "codemirror_mode": {
    "name": "ipython",
    "version": 3
   },
   "file_extension": ".py",
   "mimetype": "text/x-python",
   "name": "python",
   "nbconvert_exporter": "python",
   "pygments_lexer": "ipython3",
   "version": "3.6.8"
  }
 },
 "nbformat": 4,
 "nbformat_minor": 2
}
